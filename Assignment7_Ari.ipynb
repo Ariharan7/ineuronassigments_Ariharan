{
 "cells": [
  {
   "cell_type": "markdown",
   "id": "a19a5145",
   "metadata": {},
   "source": [
    "1. Create two int type variables, apply addition, subtraction, division and multiplications and store the results in variables. Then print the data in the following format by calling the variables:\n",
    "First variable is __ & second variable is __.\n",
    "Addition: __ + __ = __\n",
    "Subtraction: __ - __ = __\n",
    "Multiplication: __ * __ = __\n",
    "Division: __ / __ = __"
   ]
  },
  {
   "cell_type": "code",
   "execution_count": 31,
   "id": "859988e5",
   "metadata": {},
   "outputs": [
    {
     "name": "stdout",
     "output_type": "stream",
     "text": [
      "<class 'int'>\n",
      "<class 'int'>\n",
      "Addition of  First & Second variable = 69\n",
      "Subtraction of  First & Second variable = -17\n",
      "Multiplication of  First & Second variable = 1118\n",
      "Division of  First & Second variable = 0.6046511627906976\n"
     ]
    }
   ],
   "source": [
    "#Answer1 :\n",
    "\n",
    "First_Variable = 26\n",
    "Second_Variable = 43\n",
    "\n",
    "print(type(First_Variable))\n",
    "print(type(Second_Variable))\n",
    "\n",
    "Addition = First_Variable + Second_Variable\n",
    "print(\"Addition of  First & Second variable =\",Addition)\n",
    "\n",
    "Subtraction = First_Variable - Second_Variable\n",
    "print(\"Subtraction of  First & Second variable =\",Subtraction)\n",
    "\n",
    "Multiplication = First_Variable * Second_Variable\n",
    "print(\"Multiplication of  First & Second variable =\",Multiplication)\n",
    "\n",
    "Division = First_Variable / Second_Variable\n",
    "print(\"Division of  First & Second variable =\",Division)"
   ]
  },
  {
   "cell_type": "markdown",
   "id": "0c7eade9",
   "metadata": {},
   "source": [
    "2. What is the difference between the following operators:\n",
    "(i) ‘/’ & ‘//’\n",
    "(ii) ‘**’ & ‘^’\n",
    "\n",
    "Answer2 :\n",
    "\n",
    "(i) \n",
    "- The single slash '/' is used for classic division methods. It gives the output always in float values even if the input variables are intergerExponentiation \n",
    "- The Double slash '//' is used for true division methods. It gives output by rouding of the float with next nearest value.\n",
    "\n",
    "(ii)\n",
    "\n",
    "- The double asterisk is called as \"**\" as Exponentiation operator. It raises a number to the power of another number. \n",
    "- The '^' is called as XOR operator. It performs a bitwise XOR operation on the binary representations of two numbers."
   ]
  },
  {
   "cell_type": "markdown",
   "id": "0a557fc7",
   "metadata": {},
   "source": [
    "3. List the logical operators.\n",
    "\n",
    "Answer3 :\n",
    "\n",
    "and, or, not"
   ]
  },
  {
   "cell_type": "markdown",
   "id": "e8e933bb",
   "metadata": {},
   "source": [
    "4. Explain right shift operator and left shift operator with examples.\n",
    "\n",
    "Answer4 :\n",
    "\n",
    "Right shift operator : It is represented as '>>'. It shifts the bits of number to right by a specified position.\n",
    "Left shift operator : It is represented as '<<'. It shifts the bits of number to left by a specified position.\n",
    "\n",
    "Example provided below."
   ]
  },
  {
   "cell_type": "code",
   "execution_count": 34,
   "id": "4946a9be",
   "metadata": {},
   "outputs": [
    {
     "name": "stdout",
     "output_type": "stream",
     "text": [
      "4\n",
      "16\n"
     ]
    }
   ],
   "source": [
    "#Answer4 : Example\n",
    "\n",
    "a = 8 #Binary value of 8 is 1000\n",
    "b = a >> 1 #Right shifts 1 in binary value of 8 that is 1000 is right shifted as 0100 for which this binary value is 4\n",
    "print(b)\n",
    "\n",
    "c = 8 #Binary value of 8 is 1000\n",
    "d = c << 1 #Left shifts 1 in binary value of 8 that is 1000 is left shifted as 10000 for which this binary value is 16\n",
    "print(d)"
   ]
  },
  {
   "cell_type": "markdown",
   "id": "ba27d266",
   "metadata": {},
   "source": [
    "5. Create a list containing int type data of length 15. Then write a code to check if 10 is present in the list or not."
   ]
  },
  {
   "cell_type": "code",
   "execution_count": 41,
   "id": "ff75cc38",
   "metadata": {},
   "outputs": [
    {
     "name": "stdout",
     "output_type": "stream",
     "text": [
      "Length of List1 =  15\n",
      "10 is present in List1\n"
     ]
    }
   ],
   "source": [
    "#Answer5 :\n",
    "\n",
    "List1 = [1,3,4,5,6,7,10,11,23,45,67,89,1000,111,234]\n",
    "print(\"Length of List1 = \",len(List1))\n",
    "\n",
    "if 10 in List1:\n",
    "    print(\"10 is present in List1\")\n",
    "else:\n",
    "    print(\"10 is not present in List1\")"
   ]
  }
 ],
 "metadata": {
  "kernelspec": {
   "display_name": "Python 3 (ipykernel)",
   "language": "python",
   "name": "python3"
  },
  "language_info": {
   "codemirror_mode": {
    "name": "ipython",
    "version": 3
   },
   "file_extension": ".py",
   "mimetype": "text/x-python",
   "name": "python",
   "nbconvert_exporter": "python",
   "pygments_lexer": "ipython3",
   "version": "3.10.9"
  }
 },
 "nbformat": 4,
 "nbformat_minor": 5
}
