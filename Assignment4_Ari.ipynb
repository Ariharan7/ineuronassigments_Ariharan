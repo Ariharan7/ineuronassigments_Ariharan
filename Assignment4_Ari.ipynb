{
 "cells": [
  {
   "cell_type": "markdown",
   "id": "f8e1398b",
   "metadata": {},
   "source": [
    "1. What exactly is []?\n",
    "\n",
    "Answer1 : [] refers a list and if it contains no values in it then it can be an empty list. "
   ]
  },
  {
   "cell_type": "markdown",
   "id": "8dac4406",
   "metadata": {},
   "source": [
    "2. In a list of values stored in a variable called spam, how would you assign the value 'hello' as the third value? (Assume [2, 4, 6, 8, 10] are in spam.)"
   ]
  },
  {
   "cell_type": "code",
   "execution_count": 1,
   "id": "2eb7d129",
   "metadata": {},
   "outputs": [
    {
     "data": {
      "text/plain": [
       "[2, 4, 'hell0', 8, 10]"
      ]
     },
     "execution_count": 1,
     "metadata": {},
     "output_type": "execute_result"
    }
   ],
   "source": [
    "#Answer 2: \n",
    "\n",
    "spam = [2, 4, 6, 8, 10]\n",
    "spam[2] = 'hell0'\n",
    "spam"
   ]
  },
  {
   "cell_type": "markdown",
   "id": "bd703a5d",
   "metadata": {},
   "source": [
    "# Let's prtend the spam includes the list ['a', 'b', 'c', 'd'] for next three queries"
   ]
  },
  {
   "cell_type": "markdown",
   "id": "02d490ea",
   "metadata": {},
   "source": [
    "3. What is the value of spam[int(int('3'*2)/11)]"
   ]
  },
  {
   "cell_type": "code",
   "execution_count": 2,
   "id": "b412b11f",
   "metadata": {},
   "outputs": [
    {
     "data": {
      "text/plain": [
       "'d'"
      ]
     },
     "execution_count": 2,
     "metadata": {},
     "output_type": "execute_result"
    }
   ],
   "source": [
    "#Answer3 :\n",
    "\n",
    "spam = ['a', 'b', 'c', 'd']\n",
    "spam[int(int('3'*2)/11)]\n",
    "#spam[int(33/11)] = spam[3]"
   ]
  },
  {
   "cell_type": "markdown",
   "id": "c7d24690",
   "metadata": {},
   "source": [
    "4. What is the value of spam[-1]?"
   ]
  },
  {
   "cell_type": "code",
   "execution_count": 3,
   "id": "05b4a5b2",
   "metadata": {},
   "outputs": [
    {
     "data": {
      "text/plain": [
       "'d'"
      ]
     },
     "execution_count": 3,
     "metadata": {},
     "output_type": "execute_result"
    }
   ],
   "source": [
    "#Answer4 :\n",
    "\n",
    "spam = ['a', 'b', 'c', 'd']\n",
    "spam[-1]"
   ]
  },
  {
   "cell_type": "markdown",
   "id": "0a019612",
   "metadata": {},
   "source": [
    "5. What is the value of spam[:2]?"
   ]
  },
  {
   "cell_type": "code",
   "execution_count": 4,
   "id": "e74946ae",
   "metadata": {},
   "outputs": [
    {
     "data": {
      "text/plain": [
       "['a', 'b']"
      ]
     },
     "execution_count": 4,
     "metadata": {},
     "output_type": "execute_result"
    }
   ],
   "source": [
    "#Answer5 :\n",
    "\n",
    "spam = ['a', 'b', 'c', 'd']\n",
    "spam[:2]"
   ]
  },
  {
   "cell_type": "markdown",
   "id": "2dc66347",
   "metadata": {},
   "source": [
    "# Let's pretend bacon has the list [3.14, 'cat', 11, 'cat', True] for the next three questions"
   ]
  },
  {
   "cell_type": "markdown",
   "id": "4ef19677",
   "metadata": {},
   "source": [
    "6. What is the value of bacon.index('cat')?"
   ]
  },
  {
   "cell_type": "code",
   "execution_count": 5,
   "id": "b404cb0f",
   "metadata": {},
   "outputs": [
    {
     "data": {
      "text/plain": [
       "1"
      ]
     },
     "execution_count": 5,
     "metadata": {},
     "output_type": "execute_result"
    }
   ],
   "source": [
    "#Answer6 :\n",
    "\n",
    "bacon = [3.14, 'cat', 11, 'cat', True]\n",
    "bacon.index('cat')"
   ]
  },
  {
   "cell_type": "markdown",
   "id": "19b99643",
   "metadata": {},
   "source": [
    "7. How does bacon.append(99) change the look of the list value in bacon?"
   ]
  },
  {
   "cell_type": "code",
   "execution_count": 6,
   "id": "dc24b17c",
   "metadata": {},
   "outputs": [
    {
     "data": {
      "text/plain": [
       "[3.14, 'cat', 11, 'cat', True, 99]"
      ]
     },
     "execution_count": 6,
     "metadata": {},
     "output_type": "execute_result"
    }
   ],
   "source": [
    "#Answer7 :\n",
    "\n",
    "bacon = [3.14, 'cat', 11, 'cat', True]\n",
    "bacon.append(99) \n",
    "bacon\n",
    "#appends 99 in end of the list bacon."
   ]
  },
  {
   "cell_type": "markdown",
   "id": "c0f0d106",
   "metadata": {},
   "source": [
    "8. How does bacon.remove('cat') change the look of the list in bacon?"
   ]
  },
  {
   "cell_type": "code",
   "execution_count": 7,
   "id": "cb61060e",
   "metadata": {},
   "outputs": [
    {
     "data": {
      "text/plain": [
       "[3.14, 11, 'cat', True]"
      ]
     },
     "execution_count": 7,
     "metadata": {},
     "output_type": "execute_result"
    }
   ],
   "source": [
    "#Answer8 :\n",
    "\n",
    "bacon = [3.14, 'cat', 11, 'cat', True]\n",
    "bacon.remove('cat')\n",
    "bacon\n",
    "#removed cat which occures first in the list bacon"
   ]
  },
  {
   "cell_type": "markdown",
   "id": "106a19d4",
   "metadata": {},
   "source": [
    "9. What are the list concatenation and list replication operators?\n",
    "\n",
    "Answer9 : + is list concatenation operator and * is list replication operator."
   ]
  },
  {
   "cell_type": "markdown",
   "id": "09258a92",
   "metadata": {},
   "source": [
    "10. What is difference between the list methods append() and insert()?\n",
    "\n",
    "Answer10 : append() adds any item in the end of the list and insert() adds an item in a specified index of the list."
   ]
  },
  {
   "cell_type": "markdown",
   "id": "cc58f023",
   "metadata": {},
   "source": [
    "11. What are the two methods for removing items from a list?\n",
    "\n",
    "Answer11 : remove() and pop() are the two methods of removing items from a list. "
   ]
  },
  {
   "cell_type": "markdown",
   "id": "0dce40be",
   "metadata": {},
   "source": [
    "12. Describe how list values and string values are identical.\n",
    "\n",
    "Answer12 : \n",
    "\n",
    "a) List and strings contain organised sqeuences in it where list contains objects and strings contain charcters.\n",
    "b) List and stringd have a length - Length of list is number of objects or item in it and lenth of strings is number of characters present in it.\n",
    "c) Every character in a string as well as every item in a list has a position which is known as an index."
   ]
  },
  {
   "cell_type": "markdown",
   "id": "27ca3ff2",
   "metadata": {},
   "source": [
    "13. What's the difference between tuples and lists?\n",
    "\n",
    "Answer13 : Tuples are immutable means values in tuples cannot be changed and lists are mutable where the values in lists can be changed."
   ]
  },
  {
   "cell_type": "markdown",
   "id": "ffe12fc6",
   "metadata": {},
   "source": [
    "14. How do you type a tuple value that only contains the integer 42?"
   ]
  },
  {
   "cell_type": "code",
   "execution_count": 8,
   "id": "13c63d20",
   "metadata": {},
   "outputs": [
    {
     "data": {
      "text/plain": [
       "42"
      ]
     },
     "execution_count": 8,
     "metadata": {},
     "output_type": "execute_result"
    }
   ],
   "source": [
    "#Answer14 : \n",
    "\n",
    "tuple = (42)\n",
    "tuple"
   ]
  },
  {
   "cell_type": "markdown",
   "id": "c5dff9d0",
   "metadata": {},
   "source": [
    "15. How do you get a list value's tuple form? How do you get a tuple value's list form?"
   ]
  },
  {
   "cell_type": "code",
   "execution_count": 2,
   "id": "b91d68cf",
   "metadata": {},
   "outputs": [
    {
     "data": {
      "text/plain": [
       "(1, 2, 3)"
      ]
     },
     "execution_count": 2,
     "metadata": {},
     "output_type": "execute_result"
    }
   ],
   "source": [
    "#Answer15 : List to Tuple\n",
    "\n",
    "l1 = [1,2,3]\n",
    "t1 = tuple(l1)\n",
    "t1"
   ]
  },
  {
   "cell_type": "code",
   "execution_count": 3,
   "id": "a98b4b82",
   "metadata": {},
   "outputs": [
    {
     "data": {
      "text/plain": [
       "[4, 5, 6]"
      ]
     },
     "execution_count": 3,
     "metadata": {},
     "output_type": "execute_result"
    }
   ],
   "source": [
    "#Answer15 : Tuple to List\n",
    "\n",
    "t2 = (4,5,6)\n",
    "l2 = list(t2)\n",
    "l2"
   ]
  },
  {
   "cell_type": "markdown",
   "id": "3920f7a9",
   "metadata": {},
   "source": [
    "16. Variables that \"contain\" list values are not necessarily lists themselves. Instead, what do they contain?\n",
    "\n",
    "Answer16 : Variables contain references to list values."
   ]
  },
  {
   "cell_type": "markdown",
   "id": "db8303df",
   "metadata": {},
   "source": [
    "17. How do you distinguish between copy.copy() and copy.deepcopy()?\n",
    "\n",
    "Answer17 : \n",
    "\n",
    "copy.copy() function will do a shallow copy of a list.\n",
    "copy.deepcopy() function will do a deep copy of a list."
   ]
  }
 ],
 "metadata": {
  "kernelspec": {
   "display_name": "Python 3 (ipykernel)",
   "language": "python",
   "name": "python3"
  },
  "language_info": {
   "codemirror_mode": {
    "name": "ipython",
    "version": 3
   },
   "file_extension": ".py",
   "mimetype": "text/x-python",
   "name": "python",
   "nbconvert_exporter": "python",
   "pygments_lexer": "ipython3",
   "version": "3.10.9"
  }
 },
 "nbformat": 4,
 "nbformat_minor": 5
}
