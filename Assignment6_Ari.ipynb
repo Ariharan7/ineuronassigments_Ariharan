{
 "cells": [
  {
   "cell_type": "markdown",
   "id": "79025b6b",
   "metadata": {},
   "source": [
    "1. What are keywords in python? Using the keyword library, print all the python keywords.\n",
    "\n",
    "Answer1 : Reserved words that cannot be used as varibale name, function name or any other identifiers in a program is called as Keywords in python. Kindly refer below program that prints all keywords available in python."
   ]
  },
  {
   "cell_type": "code",
   "execution_count": 6,
   "id": "acff6c8f",
   "metadata": {},
   "outputs": [
    {
     "name": "stdout",
     "output_type": "stream",
     "text": [
      "All keywords in Python :  ['False', 'None', 'True', 'and', 'as', 'assert', 'async', 'await', 'break', 'class', 'continue', 'def', 'del', 'elif', 'else', 'except', 'finally', 'for', 'from', 'global', 'if', 'import', 'in', 'is', 'lambda', 'nonlocal', 'not', 'or', 'pass', 'raise', 'return', 'try', 'while', 'with', 'yield']\n"
     ]
    }
   ],
   "source": [
    "#Answer1 : \n",
    "\n",
    "import keyword\n",
    "print(\"All keywords in Python : \",keyword.kwlist)"
   ]
  },
  {
   "cell_type": "markdown",
   "id": "73b184f4",
   "metadata": {},
   "source": [
    "2. What are the rules to create variables in python?\n",
    "\n",
    "Answer2 : \n",
    "\n",
    "a) Reserved keywords in Python cannot be used as variables.\n",
    "b) A variable should start with a letter or underscore and cannot start with a number.\n",
    "c) It can only contain alphanumeric and underscores.\n",
    "d) variables in Python are case sensitive."
   ]
  },
  {
   "cell_type": "markdown",
   "id": "b24434e5",
   "metadata": {},
   "source": [
    "3. What are the standards and conventions followed for the nomenclature of variables in python to improve code readability and maintainability?\n",
    "\n",
    "Answer3 : \n",
    "\n",
    "A variable naming convention can contains any names, letters (A-Z), underscores & Digits (0-9). A variable can contain digit in it but cannot start with a digit. Genenric naming convnetion like X, Y, Z can be avoided and in case of multiple name is used Underscore can be used as a sprerator (eg: List_First, List_Second). "
   ]
  },
  {
   "cell_type": "markdown",
   "id": "8b5abb71",
   "metadata": {},
   "source": [
    "4. What will happen if a keyword is used as a variable name?\n",
    "\n",
    "Answer4 : We will get syntax error if we use keyword as variable name. See below program for example."
   ]
  },
  {
   "cell_type": "code",
   "execution_count": 10,
   "id": "c13ddfc1",
   "metadata": {},
   "outputs": [
    {
     "ename": "SyntaxError",
     "evalue": "invalid syntax (3821105554.py, line 1)",
     "output_type": "error",
     "traceback": [
      "\u001b[1;36m  Cell \u001b[1;32mIn[10], line 1\u001b[1;36m\u001b[0m\n\u001b[1;33m    and = [1,2]\u001b[0m\n\u001b[1;37m    ^\u001b[0m\n\u001b[1;31mSyntaxError\u001b[0m\u001b[1;31m:\u001b[0m invalid syntax\n"
     ]
    }
   ],
   "source": [
    "#Answer4 :\n",
    "\n",
    "and = [1,2]\n",
    "and"
   ]
  },
  {
   "cell_type": "markdown",
   "id": "89adb868",
   "metadata": {},
   "source": [
    "5. For what purpose def keyword is used?\n",
    "\n",
    "Answer5 : It is used to define or to create a function in python."
   ]
  },
  {
   "cell_type": "markdown",
   "id": "f88a21fa",
   "metadata": {},
   "source": [
    "6. What is the operation of this special character ‘\\’?\n",
    "\n",
    "Answer6 : The special charcter 'Back Slash or \\' is called as escape character which is used to represent certain whitespace characters like '\\t' for tab space, '\\n' for new line. "
   ]
  },
  {
   "cell_type": "markdown",
   "id": "aae4127c",
   "metadata": {},
   "source": [
    "7. Give an example of the following conditions:\n",
    "(i) Homogeneous list\n",
    "(ii) Heterogeneous set\n",
    "(iii) Homogeneous tuple\n",
    "\n",
    "Answer7 :\n",
    "(i) Homogeneous list, L1 = [1,2,3,4,5], L2 = ['a','b','c','d']\n",
    "(ii) Heterogeneous set, S = {2, 'Ari', False, 34.67, 'A', 45}\n",
    "(iii) Homogeneous tuple, t = (2,4,6,7,8,9)"
   ]
  },
  {
   "cell_type": "markdown",
   "id": "8b247b54",
   "metadata": {},
   "source": [
    "8. Explain the mutable and immutable data types with proper explanation & examples.\n",
    "\n",
    "Answer8 : \n",
    "\n",
    "Mutable : An object in a variable of data type can be changed. Mutable data types are Lists, Sets & Dictionarys. Mutable data types are slow processed and not easy to access object in it. \n",
    "\n",
    "Immutavle : An object or item in a variable of data type cannot be changed. Immutable data types are Strings, Tuples & Numbers. Immutable data types are safe, fast processed and east to access any item in it. "
   ]
  },
  {
   "cell_type": "code",
   "execution_count": 11,
   "id": "815d44d1",
   "metadata": {},
   "outputs": [
    {
     "data": {
      "text/plain": [
       "[1, 2, 3, 4, 5, 7]"
      ]
     },
     "execution_count": 11,
     "metadata": {},
     "output_type": "execute_result"
    }
   ],
   "source": [
    "#Answer8 example:\n",
    "\n",
    "Mutable_List = [1,2,3,4,5]\n",
    "Mutable_List.append(7)\n",
    "Mutable_List"
   ]
  },
  {
   "cell_type": "code",
   "execution_count": 12,
   "id": "24a6b24f",
   "metadata": {},
   "outputs": [
    {
     "ename": "AttributeError",
     "evalue": "'tuple' object has no attribute 'append'",
     "output_type": "error",
     "traceback": [
      "\u001b[1;31m---------------------------------------------------------------------------\u001b[0m",
      "\u001b[1;31mAttributeError\u001b[0m                            Traceback (most recent call last)",
      "Cell \u001b[1;32mIn[12], line 4\u001b[0m\n\u001b[0;32m      1\u001b[0m \u001b[38;5;66;03m#Answer8 example:\u001b[39;00m\n\u001b[0;32m      3\u001b[0m Immutable_Tuple \u001b[38;5;241m=\u001b[39m (\u001b[38;5;241m1\u001b[39m,\u001b[38;5;241m2\u001b[39m,\u001b[38;5;241m3\u001b[39m,\u001b[38;5;241m4\u001b[39m,\u001b[38;5;241m5\u001b[39m,\u001b[38;5;241m6\u001b[39m)\n\u001b[1;32m----> 4\u001b[0m \u001b[43mImmutable_Tuple\u001b[49m\u001b[38;5;241;43m.\u001b[39;49m\u001b[43mappend\u001b[49m(\u001b[38;5;241m10\u001b[39m)\n\u001b[0;32m      5\u001b[0m Immutable_Tuple\n",
      "\u001b[1;31mAttributeError\u001b[0m: 'tuple' object has no attribute 'append'"
     ]
    }
   ],
   "source": [
    "#Answer8 example:\n",
    "\n",
    "Immutable_Tuple = (1,2,3,4,5,6)\n",
    "Immutable_Tuple.append(10)\n",
    "Immutable_Tuple"
   ]
  },
  {
   "cell_type": "raw",
   "id": "ff84b2f4",
   "metadata": {},
   "source": [
    "9. Write a code to create the given structure using only for loop.\n",
    "       *\n",
    "      ***\n",
    "     *****\n",
    "    *******\n",
    "   *********"
   ]
  },
  {
   "cell_type": "code",
   "execution_count": 29,
   "id": "c2ca732f",
   "metadata": {},
   "outputs": [
    {
     "name": "stdout",
     "output_type": "stream",
     "text": [
      "    *\n",
      "   ***\n",
      "  *****\n",
      " *******\n",
      "*********\n"
     ]
    }
   ],
   "source": [
    "#Answer9 :\n",
    "\n",
    "n = 5\n",
    "for i in range(1, n+1):\n",
    "    for j in range(n - i):\n",
    "        print(' ', end='')\n",
    "    for k in range(2 * i - 1):\n",
    "        print('*', end='')\n",
    "    print()"
   ]
  },
  {
   "cell_type": "raw",
   "id": "8f430d6b",
   "metadata": {},
   "source": [
    "10. Write a code to create the given structure using while loop.\n",
    "|||||||||\n",
    " |||||||\n",
    "  |||||\n",
    "   |||\n",
    "    |"
   ]
  },
  {
   "cell_type": "code",
   "execution_count": 3,
   "id": "da97fbaa",
   "metadata": {},
   "outputs": [
    {
     "name": "stdout",
     "output_type": "stream",
     "text": [
      "|||||||||\n",
      " |||||||\n",
      "  |||||\n",
      "   |||\n",
      "    |\n"
     ]
    }
   ],
   "source": [
    "#Answer10 :\n",
    "\n",
    "i = 5\n",
    "n = 9\n",
    "\n",
    "while i >= 1:\n",
    "    space = 0\n",
    "    while space < 5 - i:\n",
    "        print(\" \", end=\"\")\n",
    "        space += 1\n",
    "    while n > 0:\n",
    "        print(\"|\", end=\"\")\n",
    "        n -= 1\n",
    "    print()\n",
    "    i -= 1\n",
    "    n = 2 * i - 1"
   ]
  }
 ],
 "metadata": {
  "kernelspec": {
   "display_name": "Python 3 (ipykernel)",
   "language": "python",
   "name": "python3"
  },
  "language_info": {
   "codemirror_mode": {
    "name": "ipython",
    "version": 3
   },
   "file_extension": ".py",
   "mimetype": "text/x-python",
   "name": "python",
   "nbconvert_exporter": "python",
   "pygments_lexer": "ipython3",
   "version": "3.10.9"
  }
 },
 "nbformat": 4,
 "nbformat_minor": 5
}
