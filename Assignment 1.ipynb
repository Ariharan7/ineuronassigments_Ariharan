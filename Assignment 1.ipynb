{
 "cells": [
  {
   "cell_type": "raw",
   "id": "45cc16bd",
   "metadata": {},
   "source": [
    "1. Value : 'Hello', -87.8, 6 Expression: *, -, /, +."
   ]
  },
  {
   "cell_type": "raw",
   "id": "14074625",
   "metadata": {},
   "source": [
    "2. Variable is to store any information and string is the type of information."
   ]
  },
  {
   "cell_type": "raw",
   "id": "3796f82c",
   "metadata": {},
   "source": [
    "3. three data type in Python are - int, str, float."
   ]
  },
  {
   "cell_type": "raw",
   "id": "39709785",
   "metadata": {},
   "source": [
    "4. Combination of values and operators to perform an operation is called as expression."
   ]
  },
  {
   "cell_type": "raw",
   "id": "fe7500c1",
   "metadata": {},
   "source": [
    "5. An expression refers to a single value, a statment does not refer to a single value."
   ]
  },
  {
   "cell_type": "raw",
   "id": "496b1496",
   "metadata": {},
   "source": [
    "6. The variable bacon contains the same value as the expression 'bacon + 1' was not assigned to the variable."
   ]
  },
  {
   "cell_type": "code",
   "execution_count": 3,
   "id": "63e71849",
   "metadata": {},
   "outputs": [
    {
     "data": {
      "text/plain": [
       "'spamspamspam'"
      ]
     },
     "execution_count": 3,
     "metadata": {},
     "output_type": "execute_result"
    }
   ],
   "source": [
    "'spam' + 'spamspam'\n"
   ]
  },
  {
   "cell_type": "code",
   "execution_count": 4,
   "id": "753a64dc",
   "metadata": {
    "scrolled": true
   },
   "outputs": [
    {
     "data": {
      "text/plain": [
       "'spamspamspam'"
      ]
     },
     "execution_count": 4,
     "metadata": {},
     "output_type": "execute_result"
    }
   ],
   "source": [
    "'spam' * 3"
   ]
  },
  {
   "cell_type": "raw",
   "id": "05815869",
   "metadata": {},
   "source": [
    "7. value for 'spam' + 'spamspam' is 'spamspamspam'\n",
    "   value for 'spam' * 3 is 'spamspamspam'"
   ]
  },
  {
   "cell_type": "raw",
   "id": "903760f1",
   "metadata": {},
   "source": [
    "8. egg is valid variable as we will be able to assign a value to it whereas we cannot assign a value to a number. "
   ]
  },
  {
   "cell_type": "raw",
   "id": "757ba137",
   "metadata": {},
   "source": [
    "9. Funtion to get an interger is int(), for floating point number float() and to get a string is str()."
   ]
  },
  {
   "cell_type": "raw",
   "id": "b60bbc95",
   "metadata": {},
   "source": [
    "10. The expression 'I have eaten ' + 99 + ' burritos.' will cause an error as the expression contains value of different data types. That is, expression will work only if in case of all data types are same. "
   ]
  },
  {
   "cell_type": "code",
   "execution_count": 5,
   "id": "1ba6cb05",
   "metadata": {},
   "outputs": [
    {
     "ename": "TypeError",
     "evalue": "can only concatenate str (not \"int\") to str",
     "output_type": "error",
     "traceback": [
      "\u001b[1;31m---------------------------------------------------------------------------\u001b[0m",
      "\u001b[1;31mTypeError\u001b[0m                                 Traceback (most recent call last)",
      "Cell \u001b[1;32mIn[5], line 1\u001b[0m\n\u001b[1;32m----> 1\u001b[0m \u001b[38;5;124;43m'\u001b[39;49m\u001b[38;5;124;43mI have eaten \u001b[39;49m\u001b[38;5;124;43m'\u001b[39;49m\u001b[43m \u001b[49m\u001b[38;5;241;43m+\u001b[39;49m\u001b[43m \u001b[49m\u001b[38;5;241;43m99\u001b[39;49m \u001b[38;5;241m+\u001b[39m \u001b[38;5;124m'\u001b[39m\u001b[38;5;124m burritos.\u001b[39m\u001b[38;5;124m'\u001b[39m\n",
      "\u001b[1;31mTypeError\u001b[0m: can only concatenate str (not \"int\") to str"
     ]
    }
   ],
   "source": [
    "'I have eaten ' + 99 + ' burritos.'"
   ]
  }
 ],
 "metadata": {
  "kernelspec": {
   "display_name": "Python 3 (ipykernel)",
   "language": "python",
   "name": "python3"
  },
  "language_info": {
   "codemirror_mode": {
    "name": "ipython",
    "version": 3
   },
   "file_extension": ".py",
   "mimetype": "text/x-python",
   "name": "python",
   "nbconvert_exporter": "python",
   "pygments_lexer": "ipython3",
   "version": "3.10.9"
  }
 },
 "nbformat": 4,
 "nbformat_minor": 5
}
