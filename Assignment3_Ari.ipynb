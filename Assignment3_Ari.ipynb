{
 "cells": [
  {
   "cell_type": "markdown",
   "id": "7e879705",
   "metadata": {},
   "source": [
    "1. Why are functions advantageous to have in your programs?\n",
    "\n",
    "Answer1 : Functions reduces the complexity of a program where it can be used at stages where we need to use certain logic or expression or operation multiple times in a program. It reducues duration, compact programming with less complexity and simplifies resuability. "
   ]
  },
  {
   "cell_type": "markdown",
   "id": "1b400663",
   "metadata": {},
   "source": [
    "2. When does the code in a function run: when it's specified or when it's called?\n",
    "\n",
    "Answer2 : The code in a function will run only if it is called, when it is specified or defined the funtion will not."
   ]
  },
  {
   "cell_type": "markdown",
   "id": "a191c709",
   "metadata": {},
   "source": [
    "3. What statement creates a function?\n",
    "\n",
    "Answer3 : def statement creates a funtion."
   ]
  },
  {
   "cell_type": "markdown",
   "id": "932d490b",
   "metadata": {},
   "source": [
    "4. What is the difference between a function and a function call?\n",
    "\n",
    "Answer4 : funtion is something we define to perform certain operation anywhere in a program and function call is used to execute that defined funtion in a program by calling it at the required stage wherever required."
   ]
  },
  {
   "cell_type": "markdown",
   "id": "27977844",
   "metadata": {},
   "source": [
    "5. How many global scopes are there in a Python program? How many local scopes?\n",
    "\n",
    "Answer5 : There is only one global scope in Python program and local scopes are created whenever a function is called in a Pythom program."
   ]
  },
  {
   "cell_type": "markdown",
   "id": "8831aed1",
   "metadata": {},
   "source": [
    "6. What happens to variables in a local scope when the function call returns?\n",
    "\n",
    "Answer6 : The local scope is desroyed and memory stored in it are erased when the function call returns."
   ]
  },
  {
   "cell_type": "markdown",
   "id": "ccad8f46",
   "metadata": {},
   "source": [
    "7. What is the concept of a return value? Is it possible to have a return value in an expression?\n",
    "\n",
    "Answer7 : Concept of return value is nothing but used anywhere in function  to call any value or used when a function completes it's execution. Return value can be used anywhere in an expression. "
   ]
  },
  {
   "cell_type": "markdown",
   "id": "52468299",
   "metadata": {},
   "source": [
    "8. If a function does not have a return statement, what is the return value of a call to that function?\n",
    "\n",
    "Answer8 : If a function does not have a return statement, return value of is None."
   ]
  },
  {
   "cell_type": "markdown",
   "id": "6a758f78",
   "metadata": {},
   "source": [
    "9. How do you make a function variable refer to the global variable?\n",
    "\n",
    "Answer9 : By using a global keyword in a function to refer a global variable in it."
   ]
  },
  {
   "cell_type": "markdown",
   "id": "f99b79ff",
   "metadata": {},
   "source": [
    "10. What is the data type of None?\n",
    "\n",
    "Answer10 : NoneType is the data type of None."
   ]
  },
  {
   "cell_type": "markdown",
   "id": "1b96672b",
   "metadata": {},
   "source": [
    "11. What does the sentence import areallyourpetsnamederic do?\n",
    "\n",
    "Answer11 : This imports a module named areallyourpetsnamederic. "
   ]
  },
  {
   "cell_type": "markdown",
   "id": "e7f6796c",
   "metadata": {},
   "source": [
    "12. If you had a bacon() feature in a spam module, what would you call it after importing spam?\n",
    "\n",
    "Answer12 : It can be called as spam.bacon(). "
   ]
  },
  {
   "cell_type": "markdown",
   "id": "c21677ca",
   "metadata": {},
   "source": [
    "13. What can you do to save a programme from crashing if it encounters an error?\n",
    "\n",
    "Answer13 : Exception handling clause's are used to save a programme from crashing if it encounters an error. "
   ]
  },
  {
   "cell_type": "markdown",
   "id": "68c34dff",
   "metadata": {},
   "source": [
    "14. What is the purpose of the try clause? What is the purpose of the except clause?\n",
    "\n",
    "Answer14 : Try clause is to block the code of errors and Except clause is to handle the erros. "
   ]
  }
 ],
 "metadata": {
  "kernelspec": {
   "display_name": "Python 3 (ipykernel)",
   "language": "python",
   "name": "python3"
  },
  "language_info": {
   "codemirror_mode": {
    "name": "ipython",
    "version": 3
   },
   "file_extension": ".py",
   "mimetype": "text/x-python",
   "name": "python",
   "nbconvert_exporter": "python",
   "pygments_lexer": "ipython3",
   "version": "3.10.9"
  }
 },
 "nbformat": 4,
 "nbformat_minor": 5
}
