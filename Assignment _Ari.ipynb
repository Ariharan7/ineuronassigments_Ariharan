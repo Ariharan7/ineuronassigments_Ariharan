{
 "cells": [
  {
   "cell_type": "markdown",
   "id": "f9a05b8c",
   "metadata": {},
   "source": [
    "1. In the below elements which of them are values or an expression? eg:- values can beinteger or string and expressions will be mathematical operators.*, 'hello', -87.8, -, /, +, 6\n",
    "\n",
    "Answer : Value : 'Hello', -87.8, 6 Expression: *, -, /, +."
   ]
  },
  {
   "cell_type": "markdown",
   "id": "b6836769",
   "metadata": {},
   "source": [
    "2. What is the difference between string and variable?\n",
    "\n",
    "Answer : Variable is to store any information and string is the type of information."
   ]
  },
  {
   "cell_type": "markdown",
   "id": "684203b2",
   "metadata": {},
   "source": [
    "3. Describe three different data types.\n",
    "\n",
    "Answer : three data type in Python are - int, str, float."
   ]
  },
  {
   "cell_type": "markdown",
   "id": "a985febb",
   "metadata": {},
   "source": [
    "4. What is an expression made up of? What do all expressions do?\n",
    "\n",
    "Answer : Combination of values and operators to perform an operation is called as expression."
   ]
  },
  {
   "cell_type": "markdown",
   "id": "f7154f5b",
   "metadata": {},
   "source": [
    "5. This assignment statements, like spam = 10. What is the difference between an expression and a statement?\n",
    "\n",
    "Answer : An expression refers to a single value, a statment does not refer to a single value."
   ]
  },
  {
   "cell_type": "markdown",
   "id": "df635e56",
   "metadata": {},
   "source": [
    "6. After running the following code, what does the variable bacon contain? bacon = 22, bacon + 1 \n",
    "\n",
    "Answer : The variable bacon contains the same value as the expression 'bacon + 1' was not assigned to the variable."
   ]
  },
  {
   "cell_type": "markdown",
   "id": "0a08d064",
   "metadata": {},
   "source": [
    "7. What should the values of the following two terms be?"
   ]
  },
  {
   "cell_type": "code",
   "execution_count": 5,
   "id": "63e71849",
   "metadata": {},
   "outputs": [
    {
     "data": {
      "text/plain": [
       "'spamspamspam'"
      ]
     },
     "execution_count": 5,
     "metadata": {},
     "output_type": "execute_result"
    }
   ],
   "source": [
    "'spam' + 'spamspam'"
   ]
  },
  {
   "cell_type": "code",
   "execution_count": 6,
   "id": "753a64dc",
   "metadata": {
    "scrolled": true
   },
   "outputs": [
    {
     "data": {
      "text/plain": [
       "'spamspamspam'"
      ]
     },
     "execution_count": 6,
     "metadata": {},
     "output_type": "execute_result"
    }
   ],
   "source": [
    "'spam' * 3"
   ]
  },
  {
   "cell_type": "markdown",
   "id": "6dd047d9",
   "metadata": {},
   "source": [
    "8. Why is eggs a valid variable name while 100 is invalid?\n",
    "\n",
    "Answer : egg is valid variable as we will be able to assign a value to it whereas we cannot assign a value to a number. "
   ]
  },
  {
   "cell_type": "markdown",
   "id": "11d1f564",
   "metadata": {},
   "source": [
    "9. What three functions can be used to get the integer, floating-point number, or string version of a value?\n",
    "\n",
    "Answer : Funtion to get an interger is int(), for floating point number float() and to get a string is str()."
   ]
  },
  {
   "cell_type": "markdown",
   "id": "3417f744",
   "metadata": {},
   "source": [
    "10. Why does this expression cause an error? How can you fix it? 'I have eaten' + 99 + 'burritos'.\n",
    "\n",
    "Answer : The expression 'I have eaten ' + 99 + ' burritos.' will cause an error as the expression contains value of different data types. That is, expression will work only if in case of all data types are same. "
   ]
  },
  {
   "cell_type": "code",
   "execution_count": 5,
   "id": "1ba6cb05",
   "metadata": {},
   "outputs": [
    {
     "ename": "TypeError",
     "evalue": "can only concatenate str (not \"int\") to str",
     "output_type": "error",
     "traceback": [
      "\u001b[1;31m---------------------------------------------------------------------------\u001b[0m",
      "\u001b[1;31mTypeError\u001b[0m                                 Traceback (most recent call last)",
      "Cell \u001b[1;32mIn[5], line 1\u001b[0m\n\u001b[1;32m----> 1\u001b[0m \u001b[38;5;124;43m'\u001b[39;49m\u001b[38;5;124;43mI have eaten \u001b[39;49m\u001b[38;5;124;43m'\u001b[39;49m\u001b[43m \u001b[49m\u001b[38;5;241;43m+\u001b[39;49m\u001b[43m \u001b[49m\u001b[38;5;241;43m99\u001b[39;49m \u001b[38;5;241m+\u001b[39m \u001b[38;5;124m'\u001b[39m\u001b[38;5;124m burritos.\u001b[39m\u001b[38;5;124m'\u001b[39m\n",
      "\u001b[1;31mTypeError\u001b[0m: can only concatenate str (not \"int\") to str"
     ]
    }
   ],
   "source": [
    "'I have eaten ' + 99 + ' burritos.'"
   ]
  }
 ],
 "metadata": {
  "kernelspec": {
   "display_name": "Python 3 (ipykernel)",
   "language": "python",
   "name": "python3"
  },
  "language_info": {
   "codemirror_mode": {
    "name": "ipython",
    "version": 3
   },
   "file_extension": ".py",
   "mimetype": "text/x-python",
   "name": "python",
   "nbconvert_exporter": "python",
   "pygments_lexer": "ipython3",
   "version": "3.10.9"
  }
 },
 "nbformat": 4,
 "nbformat_minor": 5
}
